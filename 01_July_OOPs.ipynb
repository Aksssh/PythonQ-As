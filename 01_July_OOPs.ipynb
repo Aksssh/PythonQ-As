{
 "cells": [
  {
   "cell_type": "markdown",
   "id": "0c993bb1",
   "metadata": {},
   "source": [
    "#### 1. What is the primary goal of Object-Oriented Programming (OOP)?"
   ]
  },
  {
   "cell_type": "markdown",
   "id": "3c2a35bc",
   "metadata": {},
   "source": [
    "The primary goals of Object-Oriented Programming include:\n",
    "- Robustness: Every programmer wants to produce software that produces the right output for all the anticipated inputs in the program’s application. It should be capable of handling unexpected inputs that are not explicitly defined for its application. \n",
    "- Adaptability: Modern software projects, such as word processors, web browsers, and Internet Search engines, typically involve large programs that are expected to last for many years. Therefore, software needs to evolve over time in response to changing conditions in its environment.\n",
    "- Reusability: Going hand in hand with adaptability is the desire that software is reusable, that is, code should be usable as a component of different systems in various applications. Developing quality software can be an expensive enterprise, and its cost can be offset somewhat if the software is designed in a way that makes it easily reusable in future applications. "
   ]
  },
  {
   "cell_type": "markdown",
   "id": "b7908e47",
   "metadata": {},
   "source": [
    "#### 2. What is an object in Python?"
   ]
  },
  {
   "cell_type": "markdown",
   "id": "3dd001b3",
   "metadata": {},
   "source": [
    "Python is an object-oriented programming language. Instead of writing code with a focus on what the computer needs to do, we focus our attention on what data we are working with and how it should interact. To do this, python breaks down data into individual pieces called \"objects\".\n",
    "Objects are variables that contain data and functions that can be used to manipulate the data. The object's data can vary in type (string, integer, etc.) depending on how it’s been defined. An object is like a mini-program inside python, with its own set of rules and behaviors. \n",
    "Objects are essential for interacting with different python environments, such as libraries and frameworks. Without them, those programs wouldn’t know how to interpret user instructions, ultimately making them useless."
   ]
  },
  {
   "cell_type": "markdown",
   "id": "29ff6232",
   "metadata": {},
   "source": [
    "#### 3. What is a class in Python?"
   ]
  },
  {
   "cell_type": "markdown",
   "id": "d5f9dea2",
   "metadata": {},
   "source": [
    "A python class is a collection of python objects, along with functions and data related to those objects. Classes are like templates for creating multiple objects with similar characteristics. This makes them excellent for organizing code and preventing repetition.\n",
    "For example, if you needed to create multiple python objects that were all people, you could make a python class called \"Person\". It could contain two separate python objects: one for names and one for ages. The Person class would then have instructions (or functions) on manipulating the data within those python objects. "
   ]
  },
  {
   "cell_type": "markdown",
   "id": "4f6758be",
   "metadata": {},
   "source": [
    "#### 4. What are attributes and methods in a class?"
   ]
  },
  {
   "cell_type": "markdown",
   "id": "f042c085",
   "metadata": {},
   "source": [
    "##### Class attributes:\n",
    "1. Define default values: Class attributes provide a way to define default values for objects. With this, developers can create objects with pre-set values, reducing the need for manual initialization and minimizing the risk of errors.\n",
    "2. Share information among objects: They allow developers to share information among different objects. This is useful in cases where a single instance of an object needs to be shared across different parts of the codebase.\n",
    "3. Create singletons: They can be used to create singletons, which are objects that are instantiated only once and shared among different parts of the code. Again, this is particularly useful in situations where a single instance of an object needs to be shared across different parts of the codebase.\n",
    "4. Improve code organization and efficiency: They let developers create code that is more readable, understandable, and maintainable, as they provide a way to define common characteristics among objects in a clear and concise manner.\n",
    "5. Prevent unintended consequences: Python provides a way to define class methods that can be used to change class attributes without affecting all instances of a class. This is a useful technique to avoid unintended consequences when modifying class attributes.\n",
    "\n",
    "##### Class methods:\n",
    "1. Methods are functions that are associated with an object and can be called on that object. In OOP, methods allow objects to perform operations and interact with each other. They are defined inside classes and can take parameters, perform calculations, and modify object data.\n",
    "2. Methods provide a way to encapsulate behavior and logic into objects, making it easier to understand and maintain the code. In Python, they can be defined using the def keyword, just like any other function. However, they are associated with an object and can be called on that object using dot notation.\n",
    "3. They play a crucial role in the implementation of object-oriented programming principles and are an essential aspect of creating organized and maintainable code."
   ]
  },
  {
   "cell_type": "markdown",
   "id": "27084f93",
   "metadata": {},
   "source": [
    "#### 5. What is the difference between class variables and instance variables in Python?"
   ]
  },
  {
   "cell_type": "markdown",
   "id": "7f26b178",
   "metadata": {},
   "source": [
    "##### Python Class Variables\n",
    "Class variable is a variable that is defined within a class and outside of any class method. It is a variable that is shared by all instances of the class, meaning that if the variable's value is changed, the change will be reflected in all instances of the class. Class variables help store data common to all instances of a class."
   ]
  },
  {
   "cell_type": "code",
   "execution_count": 1,
   "id": "9e859401",
   "metadata": {},
   "outputs": [],
   "source": [
    "class Employee:\n",
    "    office_name = \"XYZ Private Limited\"  # This is a class variable"
   ]
  },
  {
   "cell_type": "markdown",
   "id": "0aa0ba95",
   "metadata": {},
   "source": [
    "In this example, the office_name variable is a class variable, and it is shared among all instances of the Employee class."
   ]
  },
  {
   "cell_type": "markdown",
   "id": "efd292da",
   "metadata": {},
   "source": [
    "##### Python Instance Variables\n",
    "A class in which the value of the variable vary from object to object is known as instance variables. An instance variable, in object-oriented programming, is a variable that is associated with an instance or object of a class."
   ]
  },
  {
   "cell_type": "code",
   "execution_count": 1,
   "id": "c0089619",
   "metadata": {},
   "outputs": [],
   "source": [
    "class Employee:\n",
    "    def __init__(self, name, id):\n",
    "        self.name = name\n",
    "        self.id = id\n",
    "        self.salary = 0"
   ]
  },
  {
   "cell_type": "markdown",
   "id": "725bfa9f",
   "metadata": {},
   "source": [
    "In this example, we define an Employee class with three instance variables, name, id, and salary. We set the first two instance variables, name and id, in the init method. We also set the salary instance variable to a default value of 0."
   ]
  },
  {
   "cell_type": "markdown",
   "id": "32d91522",
   "metadata": {},
   "source": [
    "#### 6. What is the purpose of the self parameter in Python class methods?"
   ]
  },
  {
   "cell_type": "markdown",
   "id": "86b8c5d4",
   "metadata": {},
   "source": [
    "The self parameter is a reference to the current instance of the class, and is used to access variables that belongs to the class. It does not have to be named self , you can call it whatever you like, but it has to be the first parameter of any function in the class:"
   ]
  },
  {
   "cell_type": "code",
   "execution_count": 4,
   "id": "e0768ff8",
   "metadata": {},
   "outputs": [
    {
     "name": "stdout",
     "output_type": "stream",
     "text": [
      "Hello my name is John\n"
     ]
    }
   ],
   "source": [
    "class Person:\n",
    "    def __init__(mysillyobject, name, age):\n",
    "        mysillyobject.name = name\n",
    "        mysillyobject.age = age\n",
    "        \n",
    "    def myfunc(abc):\n",
    "        print(\"Hello my name is \" + abc.name)\n",
    "\n",
    "p1 = Person(\"John\", 36)\n",
    "p1.myfunc() "
   ]
  },
  {
   "cell_type": "markdown",
   "id": "f06fa7a6",
   "metadata": {},
   "source": [
    "self represents the instance of the class. By using the “self”  we can access the attributes and methods of the class in python. It binds the attributes with the given arguments."
   ]
  },
  {
   "cell_type": "markdown",
   "id": "aeb5bd19",
   "metadata": {},
   "source": [
    "##### 7. For a library management system, you have to design the \"Book\" class with OOP principles in mind. The “Book” class will have following attributes:\n",
    "1. title: Represents the title of the book.\n",
    "2. author: Represents the author(s) of the book.\n",
    "3. isbn: Represents the ISBN (International Standard Book Number) of the book.\n",
    "4. publication_year: Represents the year of publication of the book.\n",
    "5. available_copies: Represents the number of copies available for checkout.\n",
    "##### The class will also include the following methods:\n",
    "1. check_out(self): Decrements the available copies by one if there are copies available for checkout.\n",
    "2. return_book(self): Increments the available copies by one when a book is returned.\n",
    "3. display_book_info(self): Displays the information about the book, including its attributes and the number of available copies."
   ]
  },
  {
   "cell_type": "code",
   "execution_count": 15,
   "id": "f4843e0c",
   "metadata": {},
   "outputs": [
    {
     "name": "stdout",
     "output_type": "stream",
     "text": [
      "4\n",
      "6\n",
      "Book title: The Great Gatsby\n",
      "Author: F. Scott Fitzgerald\n",
      "ISBN: 9780743273565\n",
      "Publication year: 30.09.2004\n",
      "Available copies: 5\n"
     ]
    }
   ],
   "source": [
    "class Book:\n",
    "    def __init__(self, title, author, isbn, publication_year, available_copies):\n",
    "        self.title = title\n",
    "        self.author = author\n",
    "        self.isbn = int(isbn)\n",
    "        self.publication_year = publication_year\n",
    "        self.available_copies = int(available_copies)\n",
    "    \n",
    "    def check_out(x):\n",
    "        print(x.available_copies - 1)\n",
    "    \n",
    "    def return_book(y):\n",
    "        print(y.available_copies + 1)\n",
    "    \n",
    "    def display_book_info(self):\n",
    "        print(\"Book title: \" + self.title)\n",
    "        print(\"Author: \" + self.author)\n",
    "        print(\"ISBN: \" + str(self.isbn))\n",
    "        print(\"Publication year: \" + str(self.publication_year))\n",
    "        print(\"Available copies: \" + str(self.available_copies))\n",
    "\n",
    "B1 = Book(\"The Great Gatsby\", \"F. Scott Fitzgerald\", 9780743273565, \"30.09.2004\", 5)\n",
    "B1.check_out()\n",
    "B1.return_book()\n",
    "B1.display_book_info()"
   ]
  },
  {
   "cell_type": "markdown",
   "id": "f5012600",
   "metadata": {},
   "source": [
    "##### 8. For a ticket booking system, you have to design the \"Ticket\" class with OOP principles in mind. The “Ticket” class should have the following attributes:\n",
    "1. ticket_id: Represents the unique identifier for the ticket.\n",
    "2. event_name: Represents the name of the event.\n",
    "3. event_date: Represents the date of the event.\n",
    "4. venue: Represents the venue of the event.\n",
    "5. seat_number: Represents the seat number associated with the ticket.\n",
    "6. price: Represents the price of the ticket.\n",
    "7. is_reserved: Represents the reservation status of the ticket.\n",
    "##### The class also includes the following methods:\n",
    "1. reserve_ticket(self): Marks the ticket as reserved if it is not already reserved.\n",
    "2. cancel_reservation(self): Cancels the reservation of the ticket if it is already reserved.\n",
    "3. display_ticket_info(self): Displays the information about the ticket, including its attributes and reservation status."
   ]
  },
  {
   "cell_type": "code",
   "execution_count": 8,
   "id": "4d7addc4",
   "metadata": {},
   "outputs": [
    {
     "name": "stdout",
     "output_type": "stream",
     "text": [
      "Ticket Information:\n",
      "Ticket ID: T123\n",
      "Event Name: Coachella\n",
      "Event Date: 09-08-2023\n",
      "Venue: Indio, California\n",
      "Seat Number: A-101\n",
      "Price: 1500\n",
      "Reservation Status: False\n",
      "Ticket T123 has been reserved.\n",
      "Reservation for ticket T123 has been cancelled.\n",
      "Ticket Information:\n",
      "Ticket ID: T123\n",
      "Event Name: Coachella\n",
      "Event Date: 09-08-2023\n",
      "Venue: Indio, California\n",
      "Seat Number: A-101\n",
      "Price: 1500\n",
      "Reservation Status: False\n"
     ]
    }
   ],
   "source": [
    "class Ticket:\n",
    "    def __init__(self, ticket_id, event_name, event_date, venue, seat_number, price):\n",
    "        self.ticket_id = ticket_id\n",
    "        self.event_name = event_name\n",
    "        self.event_date = event_date\n",
    "        self.venue = venue\n",
    "        self.seat_number = seat_number\n",
    "        self.price = int(price)\n",
    "        self.is_reserved = False\n",
    "        \n",
    "    def reserve_ticket(self):\n",
    "        if not self.is_reserved:\n",
    "            self.is_reserved = True\n",
    "            print(f\"Ticket {self.ticket_id} has been reserved.\")\n",
    "        else:\n",
    "            print(f\"Ticket {self.ticket_id} is already reserved.\")\n",
    "            \n",
    "    def cancel_reservation(self):\n",
    "        if self.is_reserved:\n",
    "            self.is_reserved = False\n",
    "            print(f\"Reservation for ticket {self.ticket_id} has been cancelled.\")\n",
    "        else:\n",
    "            print(f\"Reservation for ticket {self.ticket_id} is not reserved for cancellation.\")\n",
    "            \n",
    "    def display_ticket_info(self):\n",
    "        print(\"Ticket Information:\")\n",
    "        print(f\"Ticket ID: {self.ticket_id}\")\n",
    "        print(f\"Event Name: {self.event_name}\")\n",
    "        print(f\"Event Date: {self.event_date}\")\n",
    "        print(f\"Venue: {self.venue}\")\n",
    "        print(f\"Seat Number: {self.seat_number}\")\n",
    "        print(f\"Price: {self.price}\")\n",
    "        print(f\"Reservation Status: {self.is_reserved}\")\n",
    "        \n",
    "ticket1 = Ticket(\"T123\", \"Coachella\", \"09-08-2023\", \"Indio, California\", \"A-101\", 1500)\n",
    "ticket1.display_ticket_info()\n",
    "ticket1.reserve_ticket()\n",
    "ticket1.cancel_reservation()\n",
    "ticket1.display_ticket_info()    "
   ]
  },
  {
   "cell_type": "markdown",
   "id": "96cb90a6",
   "metadata": {},
   "source": [
    "##### 9. You are creating a shopping cart for an e-commerce website. Using OOP to model the \"ShoppingCart\" functionality the class should contain following attributes and methods:\n",
    "items: Represents the list of items in the shopping cart.\n",
    "##### The class also includes the following methods:\n",
    "1. add_item(self, item): Adds an item to the shopping cart by appending it to the list of items.\n",
    "2. remove_item(self, item): Removes an item from the shopping cart if it exists in the list.\n",
    "3. view_cart(self): Displays the items currently present in the shopping cart.\n",
    "4. clear_cart(self): Clears all items from the shopping cart by reassigning an empty list to the items attribute"
   ]
  },
  {
   "cell_type": "code",
   "execution_count": 12,
   "id": "485f06d7",
   "metadata": {},
   "outputs": [
    {
     "name": "stdout",
     "output_type": "stream",
     "text": [
      "Shoes added to the cart.\n",
      "T-shirt added to the cart.\n",
      "Hat added to the cart.\n",
      "Items in the cart:\n",
      "Shoes\n",
      "T-shirt\n",
      "Hat\n",
      "Hat removed from the cart.\n",
      "Items in the cart:\n",
      "Shoes\n",
      "T-shirt\n",
      "The cart is empty.\n",
      "Cart is empty.\n"
     ]
    }
   ],
   "source": [
    "class ShoppingCart:\n",
    "    def __init__(self):\n",
    "        self.items = []\n",
    "    \n",
    "    def add_item(self, item):\n",
    "        self.items.append(item)\n",
    "        print(f\"{item} added to the cart.\")\n",
    "        \n",
    "    def remove_item(self, item):\n",
    "        if item in self.items:\n",
    "            self.items.remove(item)\n",
    "            print(f\"{item} removed from the cart.\")\n",
    "        else:\n",
    "            print(f\"{item} not found in the cart.\")\n",
    "                  \n",
    "    def view_cart(self):\n",
    "        if self.items:\n",
    "            print(\"Items in the cart:\")\n",
    "            for item in self.items:\n",
    "                print(item)\n",
    "        else:\n",
    "            print(\"Cart is empty.\")\n",
    "    \n",
    "    def clear_cart(self):\n",
    "        self.items = []\n",
    "        print(\"The cart is empty.\")\n",
    "\n",
    "cart = ShoppingCart()\n",
    "\n",
    "cart.add_item(\"Shoes\")\n",
    "cart.add_item(\"T-shirt\")\n",
    "cart.add_item(\"Hat\")\n",
    "\n",
    "cart.view_cart()\n",
    "\n",
    "cart.remove_item(\"Hat\")\n",
    "\n",
    "cart.view_cart()\n",
    "\n",
    "cart.clear_cart()\n",
    "\n",
    "cart.view_cart()"
   ]
  },
  {
   "cell_type": "markdown",
   "id": "992b5c7b",
   "metadata": {},
   "source": [
    "##### 10. Imagine a school management system. You have to design the \"Student\" class using OOP concepts.The “Student” class has the following attributes:\n",
    "1. name: Represents the name of the student.\n",
    "2. age: Represents the age of the student.\n",
    "3. grade: Represents the grade or class of the student.\n",
    "4. student_id: Represents the unique identifier for the student.\n",
    "5. attendance: Represents the attendance record of the student.\n",
    "##### The class should also include the following methods:\n",
    "1. update_attendance(self, date, status): Updates the attendance record of the student for a given date with the provided status (e.g., present or absent).\n",
    "2. get_attendance(self): Returns the attendance record of the student.\n",
    "3. get_average_attendance(self): Calculates and returns the average attendance percentage of the student based on their attendance record."
   ]
  },
  {
   "cell_type": "code",
   "execution_count": 14,
   "id": "f47923fa",
   "metadata": {},
   "outputs": [
    {
     "name": "stdout",
     "output_type": "stream",
     "text": [
      "Attendance Record:\n",
      "{'2023-08-01': 'present', '2023-08-02': 'absent', '2023-08-03': 'present', '2023-08-04': 'present', '2023-08-05': 'absent'}\n",
      "Average Attendance: 60.00%\n"
     ]
    }
   ],
   "source": [
    "class Student:\n",
    "    def __init__(self, name, age, grade, student_id):\n",
    "        self.name = name\n",
    "        self.age = int(age)\n",
    "        self.grade = grade\n",
    "        self.student_id = student_id\n",
    "        self.attendance = {}\n",
    "        \n",
    "    def update_attendance(self, date, status):\n",
    "        self.attendance[date] = status\n",
    "    \n",
    "    def get_attendance(self):\n",
    "        return self.attendance\n",
    "    \n",
    "    def get_average_attendance(self):\n",
    "        total_days = len(self.attendance)\n",
    "        if total_days == 0:\n",
    "            return 0.0\n",
    "\n",
    "        present_days = sum(1 for status in self.attendance.values() if status == 'present')\n",
    "        attendance_percentage = (present_days / total_days) * 100\n",
    "        return attendance_percentage\n",
    "\n",
    "student = Student(\"John Doe\", 16, \"10th\", \"S12345\")\n",
    "\n",
    "student.update_attendance(\"2023-08-01\", \"present\")\n",
    "student.update_attendance(\"2023-08-02\", \"absent\")\n",
    "student.update_attendance(\"2023-08-03\", \"present\")\n",
    "student.update_attendance(\"2023-08-04\", \"present\")\n",
    "student.update_attendance(\"2023-08-05\", \"absent\")\n",
    "\n",
    "print(\"Attendance Record:\")\n",
    "print(student.get_attendance())\n",
    "\n",
    "average_attendance = student.get_average_attendance()\n",
    "print(f\"Average Attendance: {average_attendance:.2f}%\")"
   ]
  }
 ],
 "metadata": {
  "kernelspec": {
   "display_name": "Python 3 (ipykernel)",
   "language": "python",
   "name": "python3"
  },
  "language_info": {
   "codemirror_mode": {
    "name": "ipython",
    "version": 3
   },
   "file_extension": ".py",
   "mimetype": "text/x-python",
   "name": "python",
   "nbconvert_exporter": "python",
   "pygments_lexer": "ipython3",
   "version": "3.10.9"
  }
 },
 "nbformat": 4,
 "nbformat_minor": 5
}
